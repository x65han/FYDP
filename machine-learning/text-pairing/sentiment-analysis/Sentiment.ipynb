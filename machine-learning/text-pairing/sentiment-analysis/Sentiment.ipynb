{
  "nbformat": 4,
  "nbformat_minor": 0,
  "metadata": {
    "colab": {
      "name": "Sentiment-140.ipynb",
      "version": "0.3.2",
      "provenance": [],
      "collapsed_sections": []
    },
    "kernelspec": {
      "name": "python3",
      "display_name": "Python 3"
    }
  },
  "cells": [
    {
      "cell_type": "markdown",
      "metadata": {
        "id": "2g7Tz4l9mT1K",
        "colab_type": "text"
      },
      "source": [
        "### In this notebook, try with:\n",
        "- Bag-of-words\n",
        "- TDIDF\n",
        "- LSTM/RNN"
      ]
    },
    {
      "cell_type": "code",
      "metadata": {
        "id": "MQV_oG8pmWdw",
        "colab_type": "code",
        "colab": {}
      },
      "source": [
        "# need to write a function to download all the files. maybe next time\n",
        "!mkdir utils"
      ],
      "execution_count": 0,
      "outputs": []
    },
    {
      "cell_type": "code",
      "metadata": {
        "id": "O2SqbqxyhFSl",
        "colab_type": "code",
        "outputId": "0d1c7780-5f64-4b93-d648-e6458e17e966",
        "colab": {
          "base_uri": "https://localhost:8080/",
          "height": 34
        }
      },
      "source": [
        "import time\n",
        "import os\n",
        "import pandas as pd  \n",
        "import numpy as np\n",
        "import matplotlib.pyplot as plt\n",
        "import google.colab as colab\n",
        "import random\n",
        "import csv\n",
        "from sklearn.model_selection import train_test_split\n",
        "\n",
        "from utils.file_utils import *\n",
        "from utils.image_utils import *\n",
        "from utils.generator_utils import *\n",
        "from utils.tqdm_utils import *\n",
        "from utils.keras_utils import *\n",
        "\n",
        "import warnings\n",
        "warnings.filterwarnings('ignore')"
      ],
      "execution_count": 0,
      "outputs": [
        {
          "output_type": "stream",
          "text": [
            "Using TensorFlow backend.\n"
          ],
          "name": "stderr"
        }
      ]
    },
    {
      "cell_type": "markdown",
      "metadata": {
        "id": "LZ3xk-0Dczdg",
        "colab_type": "text"
      },
      "source": [
        "### Mount Google Drive"
      ]
    },
    {
      "cell_type": "code",
      "metadata": {
        "id": "QxIyTxXml65l",
        "colab_type": "code",
        "colab": {}
      },
      "source": [
        "def mount_google_drive():\n",
        "\t'''\n",
        "\t# Functionality\n",
        "\t\tMount google drive. Since colab does not save files, we want to make it easier to directly access files in google drive.\n",
        "\t# Arguments\n",
        "\t\tNothing\n",
        "\t# Returns\n",
        "\t\tdrive_root: the working directory mounted\n",
        "\t'''\n",
        "\tmount_directory = \"/content/gdrive\"\n",
        "\tdrive = colab.drive\n",
        "\tdrive.mount(mount_directory, force_remount=True)\n",
        "\tdrive_root = mount_directory + \"/\" + list(filter(lambda x: x[0] != '.', os.listdir(mount_directory)))[0]\n",
        "\treturn drive_root"
      ],
      "execution_count": 0,
      "outputs": []
    },
    {
      "cell_type": "code",
      "metadata": {
        "id": "X4LE1Ewyc4tD",
        "colab_type": "code",
        "outputId": "0f30fdd1-8e11-47f5-9e8b-e1d7fa0c1749",
        "colab": {
          "base_uri": "https://localhost:8080/",
          "height": 139
        }
      },
      "source": [
        "ROOT_DIR =  mount_google_drive()\n",
        "CHECKPOINT_ROOT = ROOT_DIR+ \"/sentiment/checkpoints/\"\n",
        "DATASET_DIR = ROOT_DIR + \"/Dataset/\"\n",
        "\n",
        "\n",
        "def get_checkpoint_path(epoch=None):\n",
        "    if epoch is None:\n",
        "        return os.path.abspath(CHECKPOINT_ROOT + \"weights\")\n",
        "    else:\n",
        "        return os.path.abspath(CHECKPOINT_ROOT + \"weights_{}\".format(epoch))\n",
        "      \n",
        "# example of checkpoint dir\n",
        "print(get_checkpoint_path(4))"
      ],
      "execution_count": 0,
      "outputs": [
        {
          "output_type": "stream",
          "text": [
            "Go to this URL in a browser: https://accounts.google.com/o/oauth2/auth?client_id=947318989803-6bn6qk8qdgf4n4g3pfee6491hc0brc4i.apps.googleusercontent.com&redirect_uri=urn%3Aietf%3Awg%3Aoauth%3A2.0%3Aoob&scope=email%20https%3A%2F%2Fwww.googleapis.com%2Fauth%2Fdocs.test%20https%3A%2F%2Fwww.googleapis.com%2Fauth%2Fdrive%20https%3A%2F%2Fwww.googleapis.com%2Fauth%2Fdrive.photos.readonly%20https%3A%2F%2Fwww.googleapis.com%2Fauth%2Fpeopleapi.readonly&response_type=code\n",
            "\n",
            "Enter your authorization code:\n",
            "··········\n",
            "Mounted at /content/gdrive\n",
            "/content/gdrive/My Drive/sentiment/checkpoints/weights_4\n"
          ],
          "name": "stdout"
        }
      ]
    },
    {
      "cell_type": "code",
      "metadata": {
        "id": "zsoU0ue0heka",
        "colab_type": "code",
        "colab": {}
      },
      "source": [
        "csv_loc = DATASET_DIR + \"training.1600000.processed.noemoticon.csv\""
      ],
      "execution_count": 0,
      "outputs": []
    },
    {
      "cell_type": "code",
      "metadata": {
        "id": "2OvjdtvJh8a1",
        "colab_type": "code",
        "outputId": "ee0e2d6d-4000-45d4-eac7-317c6a4bb3e4",
        "colab": {
          "base_uri": "https://localhost:8080/",
          "height": 204
        }
      },
      "source": [
        "df = pd.read_csv(csv_loc, encoding='latin-1', usecols=[5, 0], names=[\"Sentiment\", \"Review\"])\n",
        "df.head()"
      ],
      "execution_count": 0,
      "outputs": [
        {
          "output_type": "execute_result",
          "data": {
            "text/html": [
              "<div>\n",
              "<style scoped>\n",
              "    .dataframe tbody tr th:only-of-type {\n",
              "        vertical-align: middle;\n",
              "    }\n",
              "\n",
              "    .dataframe tbody tr th {\n",
              "        vertical-align: top;\n",
              "    }\n",
              "\n",
              "    .dataframe thead th {\n",
              "        text-align: right;\n",
              "    }\n",
              "</style>\n",
              "<table border=\"1\" class=\"dataframe\">\n",
              "  <thead>\n",
              "    <tr style=\"text-align: right;\">\n",
              "      <th></th>\n",
              "      <th>Sentiment</th>\n",
              "      <th>Review</th>\n",
              "    </tr>\n",
              "  </thead>\n",
              "  <tbody>\n",
              "    <tr>\n",
              "      <th>0</th>\n",
              "      <td>0</td>\n",
              "      <td>@switchfoot http://twitpic.com/2y1zl - Awww, t...</td>\n",
              "    </tr>\n",
              "    <tr>\n",
              "      <th>1</th>\n",
              "      <td>0</td>\n",
              "      <td>is upset that he can't update his Facebook by ...</td>\n",
              "    </tr>\n",
              "    <tr>\n",
              "      <th>2</th>\n",
              "      <td>0</td>\n",
              "      <td>@Kenichan I dived many times for the ball. Man...</td>\n",
              "    </tr>\n",
              "    <tr>\n",
              "      <th>3</th>\n",
              "      <td>0</td>\n",
              "      <td>my whole body feels itchy and like its on fire</td>\n",
              "    </tr>\n",
              "    <tr>\n",
              "      <th>4</th>\n",
              "      <td>0</td>\n",
              "      <td>@nationwideclass no, it's not behaving at all....</td>\n",
              "    </tr>\n",
              "  </tbody>\n",
              "</table>\n",
              "</div>"
            ],
            "text/plain": [
              "   Sentiment                                             Review\n",
              "0          0  @switchfoot http://twitpic.com/2y1zl - Awww, t...\n",
              "1          0  is upset that he can't update his Facebook by ...\n",
              "2          0  @Kenichan I dived many times for the ball. Man...\n",
              "3          0    my whole body feels itchy and like its on fire \n",
              "4          0  @nationwideclass no, it's not behaving at all...."
            ]
          },
          "metadata": {
            "tags": []
          },
          "execution_count": 20
        }
      ]
    },
    {
      "cell_type": "code",
      "metadata": {
        "id": "TEmActWMnQNY",
        "colab_type": "code",
        "colab": {}
      },
      "source": [
        "# For a more comfortable usage, initialize X_train, X_val, X_test, y_train, y_val.\n",
        "X, y = df[\"Review\"].values, df[\"Sentiment\"].values\n",
        "X_train, X_val, y_train, y_val = train_test_split(X, y, test_size=0.33, random_state=46)"
      ],
      "execution_count": 0,
      "outputs": []
    },
    {
      "cell_type": "markdown",
      "metadata": {
        "id": "AIlPfAo8nJXo",
        "colab_type": "text"
      },
      "source": [
        "## Text Preprocessing"
      ]
    },
    {
      "cell_type": "code",
      "metadata": {
        "id": "HP1b-XW0iyLs",
        "colab_type": "code",
        "outputId": "c63922b9-6074-4b78-d7bb-39759cf1ff1c",
        "colab": {
          "base_uri": "https://localhost:8080/",
          "height": 51
        }
      },
      "source": [
        "import re\n",
        "import nltk\n",
        "nltk.download('stopwords')\n",
        "from nltk.corpus import stopwords\n",
        "\n",
        "\n",
        "REPLACE_BY_SPACE_RE = re.compile('[/(){}\\[\\]\\|@,;]')\n",
        "BAD_SYMBOLS_RE = re.compile('[^0-9a-z #+_]') # ??\n",
        "STOPWORDS = set(stopwords.words('english'))"
      ],
      "execution_count": 0,
      "outputs": [
        {
          "output_type": "stream",
          "text": [
            "[nltk_data] Downloading package stopwords to /root/nltk_data...\n",
            "[nltk_data]   Package stopwords is already up-to-date!\n"
          ],
          "name": "stdout"
        }
      ]
    },
    {
      "cell_type": "code",
      "metadata": {
        "id": "xaa3M4VJpdR5",
        "colab_type": "code",
        "colab": {}
      },
      "source": [
        "def text_prepare(text):\n",
        "    \"\"\"\n",
        "        text: a string\n",
        "        \n",
        "        return: modified initial string\n",
        "    \"\"\"\n",
        "    text = text.lower() # lowercase text\n",
        "    text = re.sub(REPLACE_BY_SPACE_RE, \" \", text) # replace REPLACE_BY_SPACE_RE symbols by space in text\n",
        "    text = re.sub(BAD_SYMBOLS_RE, \"\", text)      # delete symbols which are in BAD_SYMBOLS_RE from text\n",
        "    text = \" \".join([word for word in text.split(\" \") if word not in STOPWORDS]) # delete stopwords from text\n",
        "    text = re.sub(' +', ' ', text)\n",
        "    return text"
      ],
      "execution_count": 0,
      "outputs": []
    },
    {
      "cell_type": "code",
      "metadata": {
        "id": "RfxPsHc5piOq",
        "colab_type": "code",
        "outputId": "9335238c-62e5-4a23-d4ce-5ec506e0a99a",
        "colab": {
          "base_uri": "https://localhost:8080/",
          "height": 71
        }
      },
      "source": [
        "a = random.randint(0, len(X_train))\n",
        "print(X_train[a])\n",
        "print(text_prepare(X_train[a]))"
      ],
      "execution_count": 0,
      "outputs": [
        {
          "output_type": "stream",
          "text": [
            "played halo 3 last nite till 1. a lil tired since i only got 5 hours of sleep. listening 2 music. i luv him so much! &lt;3 \n",
            "played halo 3 last nite till 1 lil tired since got 5 hours sleep listening 2 music luv much lt 3 \n"
          ],
          "name": "stdout"
        }
      ]
    },
    {
      "cell_type": "code",
      "metadata": {
        "id": "ebPVzCrHqdzB",
        "colab_type": "code",
        "colab": {}
      },
      "source": [
        "X_train = [text_prepare(x) for x in X_train]\n",
        "X_val = [text_prepare(x) for x in X_val]"
      ],
      "execution_count": 0,
      "outputs": []
    },
    {
      "cell_type": "code",
      "metadata": {
        "id": "R3hLV1BprEFz",
        "colab_type": "code",
        "outputId": "72737567-4e03-4b1b-c1d3-1bdf2a3a212e",
        "colab": {
          "base_uri": "https://localhost:8080/",
          "height": 88
        }
      },
      "source": [
        "X_train[:3]"
      ],
      "execution_count": 0,
      "outputs": [
        {
          "output_type": "execute_result",
          "data": {
            "text/plain": [
              "['twitter facebook time hehe ',\n",
              " 'ach love boy texted meh plz make go away ',\n",
              " ' galoppini wrote lengthy note alfresco blog post got quot sorry seems didnt pass mathquot posted 10+010 ']"
            ]
          },
          "metadata": {
            "tags": []
          },
          "execution_count": 38
        }
      ]
    },
    {
      "cell_type": "code",
      "metadata": {
        "id": "dkdufMi4raof",
        "colab_type": "code",
        "colab": {}
      },
      "source": [
        ""
      ],
      "execution_count": 0,
      "outputs": []
    }
  ]
}