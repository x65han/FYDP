{
  "nbformat": 4,
  "nbformat_minor": 0,
  "metadata": {
    "colab": {
      "name": "3. Train and Inference Notebook.ipynb",
      "version": "0.3.2",
      "provenance": [],
      "collapsed_sections": [],
      "toc_visible": true
    },
    "language_info": {
      "codemirror_mode": {
        "name": "ipython",
        "version": 3
      },
      "file_extension": ".py",
      "mimetype": "text/x-python",
      "name": "python",
      "nbconvert_exporter": "python",
      "pygments_lexer": "ipython3",
      "version": "3.6.5"
    },
    "kernelspec": {
      "name": "python3",
      "display_name": "Python 3"
    },
    "accelerator": "GPU"
  },
  "cells": [
    {
      "cell_type": "markdown",
      "metadata": {
        "id": "lyZv-WFlPHgW",
        "colab_type": "text"
      },
      "source": [
        "## Setup"
      ]
    },
    {
      "cell_type": "code",
      "metadata": {
        "id": "aSPu3dygPKC9",
        "colab_type": "code",
        "colab": {}
      },
      "source": [
        "!mkdir utils"
      ],
      "execution_count": 0,
      "outputs": []
    },
    {
      "cell_type": "code",
      "metadata": {
        "id": "DFxK8-RSVDhR",
        "colab_type": "code",
        "outputId": "dcd04acd-a985-4129-8c86-cdc2020ff4de",
        "colab": {
          "base_uri": "https://localhost:8080/",
          "height": 34
        }
      },
      "source": [
        "from utils.file_utils import *\n",
        "from utils.image_utils import *\n",
        "from utils.generator_utils import *\n",
        "from utils.tqdm_utils import *\n",
        "from utils.keras_utils import *"
      ],
      "execution_count": 0,
      "outputs": [
        {
          "output_type": "stream",
          "text": [
            "Using TensorFlow backend.\n"
          ],
          "name": "stderr"
        }
      ]
    },
    {
      "cell_type": "code",
      "metadata": {
        "id": "tIGVxwxjPuOs",
        "colab_type": "code",
        "colab": {}
      },
      "source": [
        "import tensorflow as tf\n",
        "from tensorflow.contrib import keras\n",
        "import numpy as np\n",
        "%matplotlib inline\n",
        "import matplotlib.pyplot as plt\n",
        "L = keras.layers\n",
        "K = keras.backend\n",
        "import time\n",
        "import zipfile\n",
        "import json\n",
        "from collections import defaultdict\n",
        "import re\n",
        "import random\n",
        "from random import choice\n",
        "import os\n",
        "import collections\n",
        "import google.colab as colab\n",
        "import pickle\n",
        "\n",
        "import warnings\n",
        "warnings.filterwarnings('ignore')"
      ],
      "execution_count": 0,
      "outputs": []
    },
    {
      "cell_type": "markdown",
      "metadata": {
        "id": "MayM7PZh1crl",
        "colab_type": "text"
      },
      "source": [
        "### Mount Google Drive"
      ]
    },
    {
      "cell_type": "code",
      "metadata": {
        "id": "MCfxphku1crl",
        "colab_type": "code",
        "outputId": "077029d6-94b3-4a84-8cd1-d9626000612c",
        "colab": {
          "base_uri": "https://localhost:8080/",
          "height": 139
        }
      },
      "source": [
        "def mount_google_drive():\n",
        "\t'''\n",
        "\t# Functionality\n",
        "\t\tMount google drive. Since colab does not save files, we want to make it easier to directly access files in google drive.\n",
        "\t# Arguments\n",
        "\t\tNothing\n",
        "\t# Returns\n",
        "\t\tdrive_root: the working directory mounted\n",
        "\t'''\n",
        "\tmount_directory = \"/content/gdrive\"\n",
        "\tdrive = colab.drive\n",
        "\tdrive.mount(mount_directory, force_remount=True)\n",
        "\tdrive_root = mount_directory + \"/\" + list(filter(lambda x: x[0] != '.', os.listdir(mount_directory)))[0]\n",
        "\treturn drive_root\n",
        "\n",
        "\n",
        "\n",
        "ROOT_DIR =  mount_google_drive()\n",
        "CHECKPOINT_ROOT = ROOT_DIR+ \"/captioning/checkpoints/\"\n",
        "DATASET_DIR = ROOT_DIR + \"/Dataset/\"\n",
        "\n",
        "if not os.path.exists(DATASET_DIR):\n",
        "  os.makedirs(DATASET_DIR)\n",
        "\n",
        "if not os.path.exists(CHECKPOINT_ROOT):\n",
        "  os.makedirs(CHECKPOINT_ROOT)\n",
        "\n",
        "def get_checkpoint_path(epoch=None):\n",
        "    if epoch is None:\n",
        "        return os.path.abspath(CHECKPOINT_ROOT + \"weights\")\n",
        "    else:\n",
        "        return os.path.abspath(CHECKPOINT_ROOT + \"weights_{}\".format(epoch))\n",
        "      \n",
        "# example of checkpoint dir\n",
        "print(get_checkpoint_path(4))"
      ],
      "execution_count": 0,
      "outputs": [
        {
          "output_type": "stream",
          "text": [
            "Go to this URL in a browser: https://accounts.google.com/o/oauth2/auth?client_id=947318989803-6bn6qk8qdgf4n4g3pfee6491hc0brc4i.apps.googleusercontent.com&redirect_uri=urn%3Aietf%3Awg%3Aoauth%3A2.0%3Aoob&scope=email%20https%3A%2F%2Fwww.googleapis.com%2Fauth%2Fdocs.test%20https%3A%2F%2Fwww.googleapis.com%2Fauth%2Fdrive%20https%3A%2F%2Fwww.googleapis.com%2Fauth%2Fdrive.photos.readonly%20https%3A%2F%2Fwww.googleapis.com%2Fauth%2Fpeopleapi.readonly&response_type=code\n",
            "\n",
            "Enter your authorization code:\n",
            "··········\n",
            "Mounted at /content/gdrive\n",
            "/content/gdrive/My Drive/captioning/checkpoints/weights_4\n"
          ],
          "name": "stdout"
        }
      ]
    },
    {
      "cell_type": "markdown",
      "metadata": {
        "ExecuteTime": {
          "end_time": "2017-08-27T10:23:45.863881Z",
          "start_time": "2017-08-27T10:23:45.861693Z"
        },
        "id": "5qv7xIa21cr0",
        "colab_type": "text"
      },
      "source": [
        "## Load embeddings"
      ]
    },
    {
      "cell_type": "code",
      "metadata": {
        "id": "t059rtzypLk_",
        "colab_type": "code",
        "colab": {}
      },
      "source": [
        "def save_pickle(obj, fn):\n",
        "\t'''\n",
        "\t# Functionality\n",
        "\t\tSave the data into pickle format\n",
        "\t# Arguments\n",
        "\t\tobj: the data object\n",
        "\t\tfn: the pickle file name\n",
        "\t# Returns\n",
        "\t\tNothing. Just save to the file.\n",
        "\t'''\n",
        "\twith open(fn, \"wb\") as f:\n",
        "\t\tpickle.dump(obj, f, protocol=pickle.HIGHEST_PROTOCOL)\n",
        "\n",
        "\n",
        "def read_pickle(fn):\n",
        "\n",
        "\t'''\n",
        "\t# Functionality\n",
        "\t\tSave the data into pickle format\n",
        "\t# Arguments\n",
        "\t\tfn: the pickle file name\n",
        "\t# Returns\n",
        "\t\tobj: the desired data object\n",
        "\t'''\n",
        "\twith open(fn, \"rb\") as f:\n",
        "\t\treturn pickle.load(f)"
      ],
      "execution_count": 0,
      "outputs": []
    },
    {
      "cell_type": "code",
      "metadata": {
        "ExecuteTime": {
          "end_time": "2017-09-17T14:32:12.621413Z",
          "start_time": "2017-09-17T14:32:11.986281Z"
        },
        "id": "k9DkWBcR1csB",
        "colab_type": "code",
        "outputId": "f03b3387-b089-49c1-a2f5-e2c43507b397",
        "colab": {
          "base_uri": "https://localhost:8080/",
          "height": 51
        }
      },
      "source": [
        "# load prepared embeddings\n",
        "train_img_embeds = read_pickle(DATASET_DIR + \"train_img_embeds.pickle\")\n",
        "train_img_fns = read_pickle(DATASET_DIR + \"train_img_fns.pickle\")\n",
        "val_img_embeds = read_pickle(DATASET_DIR + \"val_img_embeds.pickle\")\n",
        "val_img_fns = read_pickle(DATASET_DIR + \"val_img_fns.pickle\")\n",
        "# check shapes\n",
        "print(train_img_embeds.shape, len(train_img_fns))\n",
        "print(val_img_embeds.shape, len(val_img_fns))"
      ],
      "execution_count": 0,
      "outputs": [
        {
          "output_type": "stream",
          "text": [
            "(8278, 2048) 8278\n",
            "(4050, 2048) 4050\n"
          ],
          "name": "stdout"
        }
      ]
    },
    {
      "cell_type": "code",
      "metadata": {
        "ExecuteTime": {
          "end_time": "2017-09-17T14:32:21.515330Z",
          "start_time": "2017-09-17T14:32:21.400879Z"
        },
        "id": "EJWaIQXZ1csF",
        "colab_type": "code",
        "outputId": "932fbf37-d49d-414b-8373-ccc3b546ec99",
        "colab": {
          "base_uri": "https://localhost:8080/",
          "height": 34
        }
      },
      "source": [
        "# check prepared samples of images\n",
        "list(filter(lambda x: x.endswith(\"_sample.zip\"), os.listdir(DATASET_DIR)))"
      ],
      "execution_count": 0,
      "outputs": [
        {
          "output_type": "execute_result",
          "data": {
            "text/plain": [
              "['train2014_sample.zip', 'val2014_sample.zip']"
            ]
          },
          "metadata": {
            "tags": []
          },
          "execution_count": 7
        }
      ]
    },
    {
      "cell_type": "markdown",
      "metadata": {
        "id": "E9WD8wn61csK",
        "colab_type": "text"
      },
      "source": [
        "## Extract Labels (Captions)"
      ]
    },
    {
      "cell_type": "code",
      "metadata": {
        "ExecuteTime": {
          "end_time": "2017-09-17T14:32:24.897276Z",
          "start_time": "2017-09-17T14:32:22.942805Z"
        },
        "id": "_OF9HGg_1csM",
        "colab_type": "code",
        "colab": {}
      },
      "source": [
        "# extract captions from zip\n",
        "def get_captions_for_fns(fns, zip_fn, zip_json_path):\n",
        "    zf = zipfile.ZipFile(zip_fn)\n",
        "    j = json.loads(zf.read(zip_json_path).decode(\"utf8\"))\n",
        "    id_to_fn = {img[\"id\"]: img[\"file_name\"] for img in j[\"images\"]}\n",
        "    fn_to_caps = defaultdict(list)\n",
        "    for cap in j['annotations']:\n",
        "        fn_to_caps[id_to_fn[cap['image_id']]].append(cap['caption'])\n",
        "    fn_to_caps = dict(fn_to_caps)\n",
        "    return list(map(lambda x: fn_to_caps[x], fns))\n",
        "    \n",
        "train_captions = get_captions_for_fns(train_img_fns, DATASET_DIR + \"captions_train-val2014.zip\", \n",
        "                                      \"annotations/captions_train2014.json\")\n",
        "\n",
        "val_captions = get_captions_for_fns(val_img_fns, DATASET_DIR + \"captions_train-val2014.zip\", \n",
        "                                      \"annotations/captions_val2014.json\")\n",
        "\n",
        "# check shape\n",
        "print(len(train_img_fns), len(train_captions))\n",
        "print(len(val_img_fns), len(val_captions))\n",
        "print(val_img_fns)"
      ],
      "execution_count": 0,
      "outputs": []
    },
    {
      "cell_type": "code",
      "metadata": {
        "id": "Li8wfDxbNorW",
        "colab_type": "code",
        "outputId": "f92ad6ee-0308-4236-90c5-455f033e4c11",
        "colab": {
          "base_uri": "https://localhost:8080/",
          "height": 187
        }
      },
      "source": [
        "# preview captions data\n",
        "train_captions[:2]"
      ],
      "execution_count": 0,
      "outputs": [
        {
          "output_type": "execute_result",
          "data": {
            "text/plain": [
              "[['A white plate with a brownie and white frosting.',\n",
              "  'A piece of chocolate cake on top of a white plate.',\n",
              "  'a chocolate cake and a fork ready to be eat',\n",
              "  'A chocolate desert on a plate with a fork. ',\n",
              "  'A piece of chocolate dessert on a plate with a napkin and a fork.'],\n",
              " ['a man with a beard and a brown and white dog on a leash',\n",
              "  'A man and his dog on a hike - both wearing backpacks',\n",
              "  'A man and a dog standing on a dirt path in the woods.',\n",
              "  'a man carrying a back pack walking a dog carrying a back pack',\n",
              "  'A man with a backpack holding a dog on a leash.']]"
            ]
          },
          "metadata": {
            "tags": []
          },
          "execution_count": 9
        }
      ]
    },
    {
      "cell_type": "markdown",
      "metadata": {
        "id": "ENmqJ0sI1csT",
        "colab_type": "text"
      },
      "source": [
        "## Let's go to NLP Part now!"
      ]
    },
    {
      "cell_type": "markdown",
      "metadata": {
        "id": "xB1ENNYtNlT7",
        "colab_type": "text"
      },
      "source": [
        "### General Pipeline for captions of each image:\n",
        "- Original Captions is a list of sentences of various lengths\n",
        "-  Change every word to lower case\n",
        "- Tokenize the senteces and build vocabulary (with specific threashold word frequencies). \n",
        "- Map each token to a number.\n",
        "- Sentences then become list of list of numbers\n",
        "- Pad and truncate the sequence of numbers to max len"
      ]
    },
    {
      "cell_type": "code",
      "metadata": {
        "ExecuteTime": {
          "end_time": "2017-09-17T14:43:40.932131Z",
          "start_time": "2017-09-17T14:43:40.891187Z"
        },
        "id": "EL4qPlCH1csV",
        "colab_type": "code",
        "colab": {}
      },
      "source": [
        "# special tokens\n",
        "PAD = \"#PAD#\"\n",
        "UNK = \"#UNK#\"\n",
        "START = \"#START#\"\n",
        "END = \"#END#\"\n",
        "\n",
        "# split sentence into tokens (split into lowercased words)\n",
        "def split_sentence(sentence):\n",
        "    return list(filter(lambda x: len(x) > 0, re.split('\\W+', sentence.lower())))\n",
        "\n",
        "  \n",
        "  \n",
        "def generate_vocabulary(train_captions):\n",
        "    \"\"\"\n",
        "    Return {token: index} for all train tokens (words) that occur 5 times or more, \n",
        "        `index` should be from 0 to N, where N is a number of unique tokens in the resulting dictionary.\n",
        "    Use `split_sentence` function to split sentence into tokens.\n",
        "    Also, add PAD (for batch padding), UNK (unknown, out of vocabulary), \n",
        "        START (start of sentence) and END (end of sentence) tokens into the vocabulary.\n",
        "    \"\"\"\n",
        "    ### YOUR CODE HERE ###\n",
        "    vocab_with_repeat = []\n",
        "    for captions in train_captions:\n",
        "      for sentence in captions:\n",
        "        tokens = split_sentence(sentence)\n",
        "        vocab_with_repeat += tokens\n",
        "    counter = collections.Counter(vocab_with_repeat)\n",
        "    \n",
        "    vocab = []\n",
        "    for element in counter:\n",
        "      if counter[element] >= 5:\n",
        "        vocab.append(element)\n",
        "    vocab = list(set(vocab))\n",
        "    vocab += [PAD, UNK, START, END]\n",
        "    \n",
        "    return {token: index for index, token in enumerate(sorted(vocab))}\n",
        "    \n",
        "    \n",
        "    \n",
        "def caption_tokens_to_indices(captions, vocab):\n",
        "    \"\"\"\n",
        "    `captions` argument is an array of arrays:\n",
        "    [\n",
        "        [\n",
        "            \"image1 caption1\",\n",
        "            \"image1 caption2\",\n",
        "            ...\n",
        "        ],\n",
        "        [\n",
        "            \"image2 caption1\",\n",
        "            \"image2 caption2\",\n",
        "            ...\n",
        "        ],\n",
        "        ...\n",
        "    ]\n",
        "    Use `split_sentence` function to split sentence into tokens.\n",
        "    Replace all tokens with vocabulary indices, use UNK for unknown words (out of vocabulary).\n",
        "    Add START and END tokens to start and end of each sentence respectively.\n",
        "    For the example above you should produce the following:\n",
        "    [\n",
        "        [\n",
        "            [vocab[START], vocab[\"image1\"], vocab[\"caption1\"], vocab[END]],\n",
        "            [vocab[START], vocab[\"image1\"], vocab[\"caption2\"], vocab[END]],\n",
        "            ...\n",
        "        ],\n",
        "        ...\n",
        "    ]\n",
        "    \"\"\"\n",
        "    ### YOUR CODE HERE ###\n",
        "    res = []\n",
        "    for instance in captions:\n",
        "      instance_list = []\n",
        "      \n",
        "      for sentence in instance:\n",
        "        sentence_list = []\n",
        "        sentence_list.append(vocab[START])\n",
        "        \n",
        "        # append tokens\n",
        "        tokens = split_sentence(sentence)\n",
        "        for token in tokens:\n",
        "          if token not in vocab.keys():\n",
        "            sentence_list.append(vocab[UNK])\n",
        "          else:\n",
        "            sentence_list.append(vocab[token])\n",
        "        \n",
        "        sentence_list.append(vocab[END])\n",
        "        \n",
        "        instance_list.append(sentence_list)\n",
        "      res.append(instance_list)\n",
        "\n",
        "    return res"
      ],
      "execution_count": 0,
      "outputs": []
    },
    {
      "cell_type": "code",
      "metadata": {
        "ExecuteTime": {
          "end_time": "2017-09-17T14:43:44.824532Z",
          "start_time": "2017-09-17T14:43:41.264769Z"
        },
        "id": "8KxbiatH1csY",
        "colab_type": "code",
        "outputId": "3024b551-6c41-4537-d513-65812bae776b",
        "colab": {
          "base_uri": "https://localhost:8080/",
          "height": 34
        }
      },
      "source": [
        "# prepare vocabulary\n",
        "vocab = generate_vocabulary(train_captions)\n",
        "vocab_inverse = {idx: w for w, idx in vocab.items()}\n",
        "print(len(vocab))"
      ],
      "execution_count": 0,
      "outputs": [
        {
          "output_type": "stream",
          "text": [
            "3066\n"
          ],
          "name": "stdout"
        }
      ]
    },
    {
      "cell_type": "code",
      "metadata": {
        "ExecuteTime": {
          "end_time": "2017-09-17T14:43:53.206639Z",
          "start_time": "2017-09-17T14:43:44.826028Z"
        },
        "id": "d9A0dxnJ1csd",
        "colab_type": "code",
        "colab": {}
      },
      "source": [
        "# replace tokens with indices\n",
        "train_captions_indexed = caption_tokens_to_indices(train_captions, vocab)\n",
        "val_captions_indexed = caption_tokens_to_indices(val_captions, vocab)"
      ],
      "execution_count": 0,
      "outputs": []
    },
    {
      "cell_type": "markdown",
      "metadata": {
        "id": "hsO8rKCT1csf",
        "colab_type": "text"
      },
      "source": [
        "Captions have different length, but we need to batch them, that's why we will add PAD tokens so that all sentences have an equal length. \n",
        "\n",
        "We will crunch LSTM through all the tokens, but we will ignore padding tokens during loss calculation."
      ]
    },
    {
      "cell_type": "code",
      "metadata": {
        "ExecuteTime": {
          "end_time": "2017-09-17T16:11:52.425546Z",
          "start_time": "2017-09-17T16:11:52.414004Z"
        },
        "id": "VKI4jLSJ1csg",
        "colab_type": "code",
        "colab": {}
      },
      "source": [
        "# we will use this during training\n",
        "def batch_captions_to_matrix(batch_captions, pad_idx, max_len=None):\n",
        "    \"\"\"\n",
        "    `batch_captions` is an array of arrays:\n",
        "    [\n",
        "        [vocab[START], ..., vocab[END]],\n",
        "        [vocab[START], ..., vocab[END]],\n",
        "        ...\n",
        "    ]\n",
        "    Put vocabulary indexed captions into np.array of shape (len(batch_captions), columns),\n",
        "        where \"columns\" is max(map(len, batch_captions)) when max_len is None\n",
        "        and \"columns\" = min(max_len, max(map(len, batch_captions))) otherwise.\n",
        "    Add padding with pad_idx where necessary.\n",
        "    Input example: [[1, 2, 3], [4, 5]]\n",
        "    Output example: np.array([[1, 2, 3], [4, 5, pad_idx]]) if max_len=None\n",
        "    Output example: np.array([[1, 2], [4, 5]]) if max_len=2\n",
        "    Output example: np.array([[1, 2, 3], [4, 5, pad_idx]]) if max_len=100\n",
        "    Try to use numpy, we need this function to be fast!\n",
        "    \"\"\"\n",
        "    ###YOUR CODE HERE###\n",
        "    matrix = []\n",
        "    \n",
        "    if max_len:\n",
        "      max_len = min(max_len, len(max(batch_captions, key=len)))  \n",
        "    else:\n",
        "      max_len = len(max(batch_captions, key=len))\n",
        "    \n",
        "    for caption in batch_captions:\n",
        "      if len(caption) < max_len:\n",
        "        output = caption + [pad_idx] * (max_len-len(caption))\n",
        "      elif len(caption) > max_len:\n",
        "        output = caption[:max_len]\n",
        "      else:\n",
        "        output = caption\n",
        "      matrix.append(output)\n",
        "\n",
        "    return np.array(matrix)"
      ],
      "execution_count": 0,
      "outputs": []
    },
    {
      "cell_type": "code",
      "metadata": {
        "id": "eMJmsqAV1cso",
        "colab_type": "code",
        "colab": {}
      },
      "source": [
        "# make sure you use correct argument in caption_tokens_to_indices\n",
        "assert len(caption_tokens_to_indices(train_captions[:10], vocab)) == 10\n",
        "assert len(caption_tokens_to_indices(train_captions[:5], vocab)) == 5"
      ],
      "execution_count": 0,
      "outputs": []
    },
    {
      "cell_type": "markdown",
      "metadata": {
        "id": "cjxonJW31cst",
        "colab_type": "text"
      },
      "source": [
        "## Define architecture"
      ]
    },
    {
      "cell_type": "code",
      "metadata": {
        "ExecuteTime": {
          "end_time": "2017-09-17T16:33:04.453351Z",
          "start_time": "2017-09-17T16:33:04.449675Z"
        },
        "id": "lwzM7H721csu",
        "colab_type": "code",
        "colab": {}
      },
      "source": [
        "IMG_EMBED_SIZE = train_img_embeds.shape[1]\n",
        "IMG_EMBED_BOTTLENECK = 120\n",
        "WORD_EMBED_SIZE = 100\n",
        "LSTM_UNITS = 300\n",
        "LOGIT_BOTTLENECK = 120\n",
        "IMG_SIZE = 299\n",
        "pad_idx = vocab[PAD]\n",
        "\n",
        "batch_size = 64\n",
        "n_epochs = 15\n",
        "n_batches_per_epoch = 1000\n",
        "n_validation_batches = 100  # how many batches are used for validation after each epoch"
      ],
      "execution_count": 0,
      "outputs": []
    },
    {
      "cell_type": "code",
      "metadata": {
        "ExecuteTime": {
          "end_time": "2017-09-17T16:38:46.296544Z",
          "start_time": "2017-09-17T16:38:46.290670Z"
        },
        "id": "A5AQp9Gh1csw",
        "colab_type": "code",
        "outputId": "fc43b34c-5e2b-4327-cd2d-be0d5b933755",
        "colab": {
          "base_uri": "https://localhost:8080/",
          "height": 224
        }
      },
      "source": [
        "# remember to reset your graph if you want to start building it from scratch!\n",
        "s = reset_tf_session()\n",
        "tf.set_random_seed(42)"
      ],
      "execution_count": 0,
      "outputs": [
        {
          "output_type": "stream",
          "text": [
            "WARNING: Logging before flag parsing goes to stderr.\n",
            "W0712 18:36:10.622394 140361279477632 deprecation_wrapper.py:119] From /content/utils/keras_utils.py:68: The name tf.get_default_session is deprecated. Please use tf.compat.v1.get_default_session instead.\n",
            "\n",
            "W0712 18:36:10.625291 140361279477632 deprecation_wrapper.py:119] From /usr/local/lib/python3.6/dist-packages/keras/backend/tensorflow_backend.py:95: The name tf.reset_default_graph is deprecated. Please use tf.compat.v1.reset_default_graph instead.\n",
            "\n",
            "W0712 18:36:10.626709 140361279477632 deprecation_wrapper.py:119] From /usr/local/lib/python3.6/dist-packages/keras/backend/tensorflow_backend.py:98: The name tf.placeholder_with_default is deprecated. Please use tf.compat.v1.placeholder_with_default instead.\n",
            "\n",
            "W0712 18:36:10.646982 140361279477632 deprecation_wrapper.py:119] From /usr/local/lib/python3.6/dist-packages/keras/backend/tensorflow_backend.py:102: The name tf.get_default_graph is deprecated. Please use tf.compat.v1.get_default_graph instead.\n",
            "\n",
            "W0712 18:36:10.647850 140361279477632 deprecation_wrapper.py:119] From /content/utils/keras_utils.py:75: The name tf.ConfigProto is deprecated. Please use tf.compat.v1.ConfigProto instead.\n",
            "\n"
          ],
          "name": "stderr"
        }
      ]
    },
    {
      "cell_type": "code",
      "metadata": {
        "ExecuteTime": {
          "end_time": "2017-09-17T16:38:48.300312Z",
          "start_time": "2017-09-17T16:38:48.128590Z"
        },
        "id": "S4cXWcHY1cs1",
        "colab_type": "code",
        "outputId": "30d48c12-02f2-4340-8300-bea983eff08d",
        "colab": {
          "base_uri": "https://localhost:8080/",
          "height": 292
        }
      },
      "source": [
        "class decoder:\n",
        "    # [batch_size, IMG_EMBED_SIZE] of CNN image features\n",
        "    img_embeds = tf.placeholder('float32', [None, IMG_EMBED_SIZE])\n",
        "    # [batch_size, time steps] of word ids\n",
        "    sentences = tf.placeholder('int32', [None, None])\n",
        "    \n",
        "    # we use bottleneck here to reduce the number of parameters\n",
        "    # image embedding -> bottleneck\n",
        "    img_embed_to_bottleneck = L.Dense(IMG_EMBED_BOTTLENECK, \n",
        "                                      input_shape=(None, IMG_EMBED_SIZE), \n",
        "                                      activation='elu')\n",
        "    # image embedding bottleneck -> lstm initial state\n",
        "    img_embed_bottleneck_to_h0 = L.Dense(LSTM_UNITS,\n",
        "                                         input_shape=(None, IMG_EMBED_BOTTLENECK),\n",
        "                                         activation='elu')\n",
        "    # word -> embedding\n",
        "    word_embed = L.Embedding(len(vocab), WORD_EMBED_SIZE)\n",
        "    # lstm cell (from tensorflow)\n",
        "    lstm = tf.nn.rnn_cell.LSTMCell(LSTM_UNITS)\n",
        "    \n",
        "    # we use bottleneck here to reduce model complexity\n",
        "    # lstm output -> logits bottleneck\n",
        "    token_logits_bottleneck = L.Dense(LOGIT_BOTTLENECK, \n",
        "                                      input_shape=(None, LSTM_UNITS),\n",
        "                                      activation=\"elu\")\n",
        "    # logits bottleneck -> logits for next token prediction\n",
        "    token_logits = L.Dense(len(vocab),\n",
        "                           input_shape=(None, LOGIT_BOTTLENECK))\n",
        "    \n",
        "    # initial lstm cell state of shape (None, LSTM_UNITS),\n",
        "    # we need to condition it on `img_embeds` placeholder.\n",
        "    ### YOUR CODE HERE ###\n",
        "    c0 = h0 = img_embed_bottleneck_to_h0(img_embed_to_bottleneck(img_embeds))\n",
        "\n",
        "    # embed all tokens but the last (last for not be input) for lstm input,\n",
        "    # remember that L.Embedding is callable,\n",
        "    # use `sentences` placeholder as input.\n",
        "    ### YOUR CODE HERE ###\n",
        "    word_embeds = word_embed(sentences[:, :-1])\n",
        "    \n",
        "    # during training we use ground truth tokens `word_embeds` as context for next token prediction.\n",
        "    # that means that we know all the inputs for our lstm and can get \n",
        "    # all the hidden states with one tensorflow operation (tf.nn.dynamic_rnn).\n",
        "    # `hidden_states` has a shape of [batch_size, time steps, LSTM_UNITS].\n",
        "    hidden_states, _ = tf.nn.dynamic_rnn(lstm, word_embeds,\n",
        "                                         initial_state=tf.nn.rnn_cell.LSTMStateTuple(c0, h0))\n",
        "\n",
        "    # now we need to calculate token logits for all the hidden states\n",
        "    \n",
        "    # first, we reshape `hidden_states` to [-1, LSTM_UNITS]\n",
        "    ### YOUR CODE HERE ###\n",
        "    flat_hidden_states = tf.reshape(hidden_states, [-1, LSTM_UNITS])\n",
        "\n",
        "    # then, we calculate logits for next tokens using `token_logits_bottleneck` and `token_logits` layers\n",
        "    ### YOUR CODE HERE ###\n",
        "    flat_token_logits = token_logits(token_logits_bottleneck(flat_hidden_states))\n",
        "    \n",
        "    # then, we flatten the ground truth (output side, compare with word_embeds) token ids.\n",
        "    # remember, that we predict next tokens for each time step,\n",
        "    # use `sentences` placeholder.\n",
        "    ### YOUR CODE HERE ###\n",
        "    flat_ground_truth = tf.reshape(sentences[:, 1:], [-1])\n",
        "\n",
        "    # we need to know where we have real tokens (not padding) in `flat_ground_truth`,\n",
        "    # we don't want to propagate the loss for padded output tokens,\n",
        "    # fill `flat_loss_mask` with 1.0 for real tokens (not pad_idx) and 0.0 otherwise.\n",
        "    ### YOUR CODE HERE ###\n",
        "    flat_loss_mask = tf.cast(tf.not_equal(flat_ground_truth, pad_idx), 'float32')\n",
        "\n",
        "    # compute cross-entropy between `flat_ground_truth` and `flat_token_logits` predicted by lstm\n",
        "    xent = tf.nn.sparse_softmax_cross_entropy_with_logits(\n",
        "        labels=flat_ground_truth, \n",
        "        logits=flat_token_logits\n",
        "    )\n",
        "\n",
        "    # compute average `xent` over tokens with nonzero `flat_loss_mask`.\n",
        "    # we don't want to account misclassification of PAD tokens, because that doesn't make sense,\n",
        "    # we have PAD tokens for batching purposes only!\n",
        "    ### YOUR CODE HERE ###\n",
        "    loss = tf.reduce_sum(xent*flat_loss_mask) / tf.reduce_sum(flat_loss_mask)"
      ],
      "execution_count": 0,
      "outputs": [
        {
          "output_type": "stream",
          "text": [
            "W0712 18:36:11.989533 140361279477632 deprecation.py:506] From /usr/local/lib/python3.6/dist-packages/tensorflow/python/ops/init_ops.py:1251: calling VarianceScaling.__init__ (from tensorflow.python.ops.init_ops) with dtype is deprecated and will be removed in a future version.\n",
            "Instructions for updating:\n",
            "Call initializer instance with the dtype argument instead of passing it to the constructor\n",
            "W0712 18:36:11.994508 140361279477632 deprecation.py:506] From /usr/local/lib/python3.6/dist-packages/tensorflow/python/keras/initializers.py:119: calling RandomUniform.__init__ (from tensorflow.python.ops.init_ops) with dtype is deprecated and will be removed in a future version.\n",
            "Instructions for updating:\n",
            "Call initializer instance with the dtype argument instead of passing it to the constructor\n",
            "W0712 18:36:11.997472 140361279477632 deprecation.py:323] From <ipython-input-17-430d427f1f8e>:19: LSTMCell.__init__ (from tensorflow.python.ops.rnn_cell_impl) is deprecated and will be removed in a future version.\n",
            "Instructions for updating:\n",
            "This class is equivalent as tf.keras.layers.LSTMCell, and will be replaced by that in Tensorflow 2.0.\n",
            "W0712 18:36:12.197847 140361279477632 deprecation.py:323] From <ipython-input-17-430d427f1f8e>:46: dynamic_rnn (from tensorflow.python.ops.rnn) is deprecated and will be removed in a future version.\n",
            "Instructions for updating:\n",
            "Please use `keras.layers.RNN(cell)`, which is equivalent to this API\n",
            "W0712 18:36:12.277858 140361279477632 deprecation.py:506] From /usr/local/lib/python3.6/dist-packages/tensorflow/python/ops/rnn_cell_impl.py:961: calling Zeros.__init__ (from tensorflow.python.ops.init_ops) with dtype is deprecated and will be removed in a future version.\n",
            "Instructions for updating:\n",
            "Call initializer instance with the dtype argument instead of passing it to the constructor\n"
          ],
          "name": "stderr"
        }
      ]
    },
    {
      "cell_type": "code",
      "metadata": {
        "id": "kuC-sN_W1cs5",
        "colab_type": "code",
        "colab": {}
      },
      "source": [
        "# define optimizer operation to minimize the loss\n",
        "optimizer = tf.train.AdamOptimizer(learning_rate=0.001)\n",
        "train_step = optimizer.minimize(decoder.loss)\n",
        "\n",
        "# will be used to save/load network weights.\n",
        "# you need to reset your default graph and define it in the same way to be able to load the saved weights!\n",
        "saver = tf.train.Saver()\n",
        "\n",
        "# intialize all variables\n",
        "s.run(tf.global_variables_initializer())"
      ],
      "execution_count": 0,
      "outputs": []
    },
    {
      "cell_type": "markdown",
      "metadata": {
        "id": "S1sHGHk01ctA",
        "colab_type": "text"
      },
      "source": [
        "## Training"
      ]
    },
    {
      "cell_type": "code",
      "metadata": {
        "ExecuteTime": {
          "end_time": "2017-09-17T14:43:59.397913Z",
          "start_time": "2017-09-17T14:43:58.913391Z"
        },
        "id": "79P3tQqt1ctB",
        "colab_type": "code",
        "colab": {}
      },
      "source": [
        "train_captions_indexed = np.array(train_captions_indexed)\n",
        "val_captions_indexed = np.array(val_captions_indexed)"
      ],
      "execution_count": 0,
      "outputs": []
    },
    {
      "cell_type": "code",
      "metadata": {
        "ExecuteTime": {
          "end_time": "2017-09-17T14:43:59.529548Z",
          "start_time": "2017-09-17T14:43:59.399567Z"
        },
        "id": "znMMnehQ1ctD",
        "colab_type": "code",
        "colab": {}
      },
      "source": [
        "# generate batch via random sampling of images and captions for them,\n",
        "# we use `max_len` parameter to control the length of the captions (truncating long captions)\n",
        "def generate_batch(images_embeddings, indexed_captions, batch_size, max_len=None):\n",
        "    \"\"\"\n",
        "    `images_embeddings` is a np.array of shape [number of images, IMG_EMBED_SIZE].\n",
        "    `indexed_captions` holds 5 vocabulary indexed captions for each image:\n",
        "    [\n",
        "        [\n",
        "            [vocab[START], vocab[\"image1\"], vocab[\"caption1\"], vocab[END]],\n",
        "            [vocab[START], vocab[\"image1\"], vocab[\"caption2\"], vocab[END]],\n",
        "            ...\n",
        "        ],\n",
        "        ...\n",
        "    ]\n",
        "    Generate a random batch of size `batch_size`.\n",
        "    Take random images and choose one random caption for each image.\n",
        "    Remember to use `batch_captions_to_matrix` for padding and respect `max_len` parameter.\n",
        "    Return feed dict {decoder.img_embeds: ..., decoder.sentences: ...}.\n",
        "    \"\"\"\n",
        "    ### YOUR CODE HERE ###\n",
        "    indices = np.random.randint(0, len(images_embeddings), batch_size)\n",
        "    batch_image_embeddings = images_embeddings[indices]\n",
        "    \n",
        "    ### YOUR CODE HERE ###\n",
        "    batch_captions = []\n",
        "    for i in indices:\n",
        "      all_current_captions = indexed_captions[i]\n",
        "      cap_idx = np.random.randint(0, len(all_current_captions))\n",
        "      batch_captions.append(all_current_captions[cap_idx])\n",
        "    batch_captions_matrix = batch_captions_to_matrix(batch_captions, pad_idx, max_len)\n",
        "    \n",
        "    return {decoder.img_embeds: batch_image_embeddings, \n",
        "            decoder.sentences: batch_captions_matrix}"
      ],
      "execution_count": 0,
      "outputs": []
    },
    {
      "cell_type": "code",
      "metadata": {
        "ExecuteTime": {
          "end_time": "2017-09-17T14:44:01.497022Z",
          "start_time": "2017-09-17T14:44:00.962013Z"
        },
        "id": "s6dagTHX1ctH",
        "colab_type": "code",
        "colab": {}
      },
      "source": [
        "# you can load trained weights here\n",
        "# uncomment the next line if you need to load weights\n",
        "# saver.restore(s, get_checkpoint_path(epoch=4))"
      ],
      "execution_count": 0,
      "outputs": []
    },
    {
      "cell_type": "markdown",
      "metadata": {
        "id": "OSgGNb9E1ctJ",
        "colab_type": "text"
      },
      "source": [
        "Look at the training and validation loss, they should be decreasing!"
      ]
    },
    {
      "cell_type": "code",
      "metadata": {
        "ExecuteTime": {
          "end_time": "2017-09-17T12:42:16.120494Z",
          "start_time": "2017-09-17T12:31:03.779162Z"
        },
        "scrolled": true,
        "id": "ENHe_BD51ctN",
        "colab_type": "code",
        "outputId": "1ff6b5fa-16ca-4a7c-a195-28a60dd4e5de",
        "colab": {
          "base_uri": "https://localhost:8080/",
          "height": 870
        }
      },
      "source": [
        "# actual training loop\n",
        "MAX_LEN = 20  # truncate long captions to speed up training\n",
        "\n",
        "# to make training reproducible\n",
        "np.random.seed(42)\n",
        "random.seed(42)\n",
        "\n",
        "for epoch in range(n_epochs):\n",
        "    \n",
        "    train_loss = 0\n",
        "    pbar = tqdm_notebook_failsafe(range(n_batches_per_epoch))\n",
        "    counter = 0\n",
        "    for _ in pbar:\n",
        "        train_loss += s.run([decoder.loss, train_step], \n",
        "                            generate_batch(train_img_embeds, \n",
        "                                           train_captions_indexed, \n",
        "                                           batch_size, \n",
        "                                           MAX_LEN))[0]\n",
        "        counter += 1\n",
        "        pbar.set_description(\"Training loss: %f\" % (train_loss / counter))\n",
        "        \n",
        "    train_loss /= n_batches_per_epoch\n",
        "    \n",
        "    val_loss = 0\n",
        "    for _ in range(n_validation_batches):\n",
        "        val_loss += s.run(decoder.loss, generate_batch(val_img_embeds,\n",
        "                                                       val_captions_indexed, \n",
        "                                                       batch_size, \n",
        "                                                       MAX_LEN))\n",
        "    val_loss /= n_validation_batches\n",
        "    \n",
        "    print('Epoch: {}, train loss: {}, val loss: {}'.format(epoch, train_loss, val_loss))\n",
        "\n",
        "    # save weights after finishing epoch\n",
        "    saver.save(s, get_checkpoint_path(epoch))\n",
        "    \n",
        "print(\"Finished!\")"
      ],
      "execution_count": 0,
      "outputs": [
        {
          "output_type": "stream",
          "text": [
            "**************************************************\n",
            "Training loss: 3.950947\n",
            "Epoch: 0, train loss: 3.9509467825889586, val loss: 3.3504215598106386\n",
            "**************************************************\n",
            "Training loss: 2.996984\n",
            "Epoch: 1, train loss: 2.996983834505081, val loss: 2.982754559516907\n",
            "**************************************************\n",
            "Training loss: 2.680705\n",
            "Epoch: 2, train loss: 2.6807051994800566, val loss: 2.874350709915161\n",
            "**************************************************\n",
            "Training loss: 2.494104\n",
            "Epoch: 3, train loss: 2.4941035180091857, val loss: 2.827591459751129\n",
            "**************************************************\n",
            "Training loss: 2.362529\n",
            "Epoch: 4, train loss: 2.362529140710831, val loss: 2.8155920243263246\n",
            "**************************************************\n",
            "Training loss: 2.246948\n"
          ],
          "name": "stdout"
        },
        {
          "output_type": "stream",
          "text": [
            "W0712 18:37:55.982235 140361279477632 deprecation.py:323] From /usr/local/lib/python3.6/dist-packages/tensorflow/python/training/saver.py:960: remove_checkpoint (from tensorflow.python.training.checkpoint_management) is deprecated and will be removed in a future version.\n",
            "Instructions for updating:\n",
            "Use standard file APIs to delete files with this prefix.\n"
          ],
          "name": "stderr"
        },
        {
          "output_type": "stream",
          "text": [
            "Epoch: 5, train loss: 2.2469480113983153, val loss: 2.861932108402252\n",
            "**************************************************\n",
            "Training loss: 2.152399\n",
            "Epoch: 6, train loss: 2.1523994661569597, val loss: 2.8659900879859923\n",
            "**************************************************\n",
            "Training loss: 2.061127\n",
            "Epoch: 7, train loss: 2.061126788020134, val loss: 2.8858258152008056\n",
            "**************************************************\n",
            "Training loss: 1.990575\n",
            "Epoch: 8, train loss: 1.990575444459915, val loss: 2.9221073722839357\n",
            "**************************************************\n",
            "Training loss: 1.908313\n",
            "Epoch: 9, train loss: 1.9083133890628814, val loss: 2.997011590003967\n",
            "**************************************************\n",
            "Training loss: 1.838523\n",
            "Epoch: 10, train loss: 1.838523150086403, val loss: 3.0681496167182924\n",
            "**************************************************\n",
            "Training loss: 1.768701\n",
            "Epoch: 11, train loss: 1.7687007256746292, val loss: 3.0859017968177795\n",
            "**************************************************\n",
            "Training loss: 1.708857\n",
            "Epoch: 12, train loss: 1.708857026219368, val loss: 3.1825794911384584\n",
            "**************************************************\n",
            "Training loss: 1.643917\n",
            "Epoch: 13, train loss: 1.643916758775711, val loss: 3.2697503757476807\n",
            "**************************************************\n",
            "Training loss: 1.583958\n",
            "Epoch: 14, train loss: 1.5839584383964538, val loss: 3.3082787203788757\n",
            "Finished!\n"
          ],
          "name": "stdout"
        }
      ]
    },
    {
      "cell_type": "code",
      "metadata": {
        "ExecuteTime": {
          "end_time": "2017-09-17T12:42:16.399349Z",
          "start_time": "2017-09-17T12:42:16.122158Z"
        },
        "id": "-NOy-k1x1ctT",
        "colab_type": "code",
        "outputId": "b8775192-d72b-42f3-d354-f54aa89ed094",
        "colab": {
          "base_uri": "https://localhost:8080/",
          "height": 275
        }
      },
      "source": [
        "# check that it's learnt something, outputs accuracy of next word prediction (should be around 0.5)\n",
        "from sklearn.metrics import accuracy_score, log_loss\n",
        "\n",
        "def decode_sentence(sentence_indices):\n",
        "    return \" \".join(list(map(vocab_inverse.get, sentence_indices)))\n",
        "\n",
        "def check_after_training(n_examples):\n",
        "    fd = generate_batch(train_img_embeds, train_captions_indexed, batch_size)\n",
        "    logits = decoder.flat_token_logits.eval(fd)\n",
        "    truth = decoder.flat_ground_truth.eval(fd)\n",
        "    mask = decoder.flat_loss_mask.eval(fd).astype(bool)\n",
        "    print(\"Loss:\", decoder.loss.eval(fd))\n",
        "    print(\"Accuracy:\", accuracy_score(logits.argmax(axis=1)[mask], truth[mask]))\n",
        "    for example_idx in range(n_examples):\n",
        "        print(\"Example\", example_idx)\n",
        "        print(\"Predicted:\", decode_sentence(logits.argmax(axis=1).reshape((batch_size, -1))[example_idx]))\n",
        "        print(\"Truth:\", decode_sentence(truth.reshape((batch_size, -1))[example_idx]))\n",
        "        print(\"\")\n",
        "\n",
        "check_after_training(3)"
      ],
      "execution_count": 0,
      "outputs": [
        {
          "output_type": "stream",
          "text": [
            "Loss: 1.5324882\n",
            "Accuracy: 0.6193633952254642\n",
            "Example 0\n",
            "Predicted: a table table coffee with a and and a on it #END# on and and and and and and\n",
            "Truth: a round glass table has coffee juice and rolls on it #END# #PAD# #PAD# #PAD# #PAD# #PAD# #PAD# #PAD#\n",
            "\n",
            "Example 1\n",
            "Predicted: a street signs on attached in front of a building #END# #END# #END# #END# #END# and and and and\n",
            "Truth: three street signs are seen in front of a building #END# #PAD# #PAD# #PAD# #PAD# #PAD# #PAD# #PAD# #PAD#\n",
            "\n",
            "Example 2\n",
            "Predicted: a man on a snow with skis on posing his #END# #END# #END# #END# #END# #END# #END# #END# #END#\n",
            "Truth: a man in the snow on skis and with poles #END# #PAD# #PAD# #PAD# #PAD# #PAD# #PAD# #PAD# #PAD#\n",
            "\n"
          ],
          "name": "stdout"
        }
      ]
    },
    {
      "cell_type": "code",
      "metadata": {
        "ExecuteTime": {
          "end_time": "2017-09-17T12:42:16.535481Z",
          "start_time": "2017-09-17T12:42:16.400830Z"
        },
        "id": "nPLbvpaK1ctV",
        "colab_type": "code",
        "outputId": "5411b8e2-9f58-447d-9392-29b8b4b5b40f",
        "colab": {
          "base_uri": "https://localhost:8080/",
          "height": 34
        }
      },
      "source": [
        "# save last graph weights to file!\n",
        "saver.save(s, get_checkpoint_path())"
      ],
      "execution_count": 0,
      "outputs": [
        {
          "output_type": "execute_result",
          "data": {
            "text/plain": [
              "'/content/gdrive/My Drive/captioning/checkpoints/weights'"
            ]
          },
          "metadata": {
            "tags": []
          },
          "execution_count": 24
        }
      ]
    },
    {
      "cell_type": "markdown",
      "metadata": {
        "id": "JMPDrLyW1ctW",
        "colab_type": "text"
      },
      "source": [
        "# Inference\n",
        "Here we construct a graph for our final model.\n",
        "\n",
        "It will work as follows:\n",
        "- take an image as an input and embed it\n",
        "- condition lstm on that embedding\n",
        "- predict the next token given a START input token\n",
        "- use predicted token as an input at next time step\n",
        "- iterate until you predict an END token"
      ]
    },
    {
      "cell_type": "code",
      "metadata": {
        "ExecuteTime": {
          "end_time": "2017-09-17T14:44:22.546086Z",
          "start_time": "2017-09-17T14:44:16.029331Z"
        },
        "id": "xsf6phMx1ctX",
        "colab_type": "code",
        "outputId": "13d5e012-d745-4530-9698-a824b6d4c146",
        "colab": {
          "base_uri": "https://localhost:8080/",
          "height": 122
        }
      },
      "source": [
        "class final_model:\n",
        "    # CNN encoder\n",
        "    K.set_learning_phase(False)\n",
        "    encoder = keras.applications.InceptionV3(include_top=False)\n",
        "    encoder = keras.models.Model(encoder.inputs, keras.layers.GlobalAveragePooling2D()(encoder.output))\n",
        "    \n",
        "    saver.restore(s, get_checkpoint_path())  # keras applications corrupt our graph, so we restore trained weights\n",
        "    \n",
        "    # containers for current lstm state\n",
        "    lstm_c = tf.Variable(tf.zeros([1, LSTM_UNITS]), name=\"cell\")\n",
        "    lstm_h = tf.Variable(tf.zeros([1, LSTM_UNITS]), name=\"hidden\")\n",
        "\n",
        "    # input images\n",
        "    input_images = tf.placeholder('float32', [1, IMG_SIZE, IMG_SIZE, 3], name='images')\n",
        "\n",
        "    # get image embeddings\n",
        "    img_embeds = encoder(input_images)\n",
        "\n",
        "    # initialize lstm state conditioned on image\n",
        "    init_c = init_h = decoder.img_embed_bottleneck_to_h0(decoder.img_embed_to_bottleneck(img_embeds))\n",
        "    init_lstm = tf.assign(lstm_c, init_c), tf.assign(lstm_h, init_h)\n",
        "    \n",
        "    # current word index\n",
        "    current_word = tf.placeholder('int32', [1], name='current_input')\n",
        "\n",
        "    # embedding for current word\n",
        "    word_embed = decoder.word_embed(current_word)\n",
        "\n",
        "    # apply lstm cell, get new lstm states\n",
        "    new_c, new_h = decoder.lstm(word_embed, tf.nn.rnn_cell.LSTMStateTuple(lstm_c, lstm_h))[1]\n",
        "\n",
        "    # compute logits for next token\n",
        "    new_logits = decoder.token_logits(decoder.token_logits_bottleneck(new_h))\n",
        "    # compute probabilities for next token\n",
        "    new_probs = tf.nn.softmax(new_logits)\n",
        "\n",
        "    # `one_step` outputs probabilities of next token and updates lstm hidden state\n",
        "    one_step = new_probs, tf.assign(lstm_c, new_c), tf.assign(lstm_h, new_h)"
      ],
      "execution_count": 0,
      "outputs": [
        {
          "output_type": "stream",
          "text": [
            "Downloading data from https://github.com/fchollet/deep-learning-models/releases/download/v0.5/inception_v3_weights_tf_dim_ordering_tf_kernels_notop.h5\n",
            "87916544/87910968 [==============================] - 29s 0us/step\n"
          ],
          "name": "stdout"
        },
        {
          "output_type": "stream",
          "text": [
            "W0712 18:41:37.945595 140361279477632 deprecation.py:323] From /usr/local/lib/python3.6/dist-packages/tensorflow/python/training/saver.py:1276: checkpoint_exists (from tensorflow.python.training.checkpoint_management) is deprecated and will be removed in a future version.\n",
            "Instructions for updating:\n",
            "Use standard file APIs to check for files with this prefix.\n"
          ],
          "name": "stderr"
        }
      ]
    },
    {
      "cell_type": "code",
      "metadata": {
        "id": "HwFNLwTLXBjk",
        "colab_type": "code",
        "colab": {}
      },
      "source": [
        "# This preprocessing function should be in the notebook not in the utils\n",
        "# Since we may want to try different config every time. Should be custimizable. \n",
        "def preprocess(input, input_shape=(299, 299)):\n",
        "    if type(input) is bytes:\n",
        "      img = decode_image_from_raw_bytes(input)\n",
        "    else:\n",
        "      img = input\n",
        "    img = image_center_crop(img)  # take center crop\n",
        "    img = cv2.resize(img, input_shape)  # resize for our model\n",
        "    img = img.astype(\"float32\")  # prepare for normalization\n",
        "    img = keras.applications.inception_v3.preprocess_input(img)  # preprocess for model\n",
        "    return img"
      ],
      "execution_count": 0,
      "outputs": []
    },
    {
      "cell_type": "code",
      "metadata": {
        "id": "tgmb3cenYPx8",
        "colab_type": "code",
        "colab": {}
      },
      "source": [
        "def generate_caption(image, t=1, sample=False, max_len=20):\n",
        "    \"\"\"\n",
        "    Generate caption for given image.\n",
        "    if `sample` is True, we will sample next token from predicted probability distribution.\n",
        "    `t` is a temperature during that sampling,\n",
        "        higher `t` causes more uniform-like distribution = more chaos.\n",
        "    \"\"\"\n",
        "    # condition lstm on the image\n",
        "    s.run(final_model.init_lstm, \n",
        "          {final_model.input_images: [image]})\n",
        "    \n",
        "    # current caption\n",
        "    # start with only START token\n",
        "    caption = [vocab[START]]\n",
        "    \n",
        "    for _ in range(max_len):\n",
        "        next_word_probs = s.run(final_model.one_step, \n",
        "                                {final_model.current_word: [caption[-1]]})[0]\n",
        "        next_word_probs = next_word_probs.ravel()\n",
        "        \n",
        "        # apply temperature\n",
        "        next_word_probs = next_word_probs**(1/t) / np.sum(next_word_probs**(1/t))\n",
        "\n",
        "        if sample:\n",
        "            next_word = np.random.choice(range(len(vocab)), p=next_word_probs)\n",
        "        else:\n",
        "            next_word = np.argmax(next_word_probs)\n",
        "\n",
        "        caption.append(next_word)\n",
        "        if next_word == vocab[END]:\n",
        "            break\n",
        "       \n",
        "    return list(map(vocab_inverse.get, caption))"
      ],
      "execution_count": 0,
      "outputs": []
    },
    {
      "cell_type": "code",
      "metadata": {
        "id": "6xok8iApW_gG",
        "colab_type": "code",
        "colab": {}
      },
      "source": [
        "def inference(input):\n",
        "    img = preprocess(input)\n",
        "    \n",
        "    fig = plt.figure(figsize=(7, 7))\n",
        "    plt.grid('off')\n",
        "    plt.axis('off')\n",
        "    plt.imshow(img)\n",
        "    \n",
        "    print(' '.join(generate_caption(img)[1:-1]))\n",
        "    plt.show()"
      ],
      "execution_count": 0,
      "outputs": []
    },
    {
      "cell_type": "code",
      "metadata": {
        "id": "XCO0u4jWYKXu",
        "colab_type": "code",
        "outputId": "0dab968d-6597-42e7-e696-e7815e2ab9bd",
        "colab": {
          "base_uri": "https://localhost:8080/",
          "height": 673
        }
      },
      "source": [
        "! wget https://cdn.pixabay.com/photo/2017/09/17/16/35/boats-2758962__340.jpg\n",
        "inference(open(\"boats-2758962__340.jpg\", \"rb\").read())"
      ],
      "execution_count": 0,
      "outputs": [
        {
          "output_type": "stream",
          "text": [
            "--2019-07-12 18:41:39--  https://cdn.pixabay.com/photo/2017/09/17/16/35/boats-2758962__340.jpg\n",
            "Resolving cdn.pixabay.com (cdn.pixabay.com)... 104.18.82.97, 104.18.141.87, 2606:4700::6812:8d57, ...\n",
            "Connecting to cdn.pixabay.com (cdn.pixabay.com)|104.18.82.97|:443... connected.\n",
            "HTTP request sent, awaiting response... 200 OK\n",
            "Length: 34676 (34K) [image/jpeg]\n",
            "Saving to: ‘boats-2758962__340.jpg’\n",
            "\n",
            "\rboats-2758962__340.   0%[                    ]       0  --.-KB/s               \rboats-2758962__340. 100%[===================>]  33.86K  --.-KB/s    in 0.01s   \n",
            "\n",
            "2019-07-12 18:41:39 (2.78 MB/s) - ‘boats-2758962__340.jpg’ saved [34676/34676]\n",
            "\n"
          ],
          "name": "stdout"
        },
        {
          "output_type": "stream",
          "text": [
            "W0712 18:41:40.578860 140361279477632 image.py:648] Clipping input data to the valid range for imshow with RGB data ([0..1] for floats or [0..255] for integers).\n"
          ],
          "name": "stderr"
        },
        {
          "output_type": "stream",
          "text": [
            "a group of sail boats floating on top of a beach\n"
          ],
          "name": "stdout"
        },
        {
          "output_type": "display_data",
          "data": {
            "image/png": "[encoded data removed]",
            "text/plain": [
              "<Figure size 504x504 with 1 Axes>"
            ]
          },
          "metadata": {
            "tags": []
          }
        }
      ]
    },
    {
      "cell_type": "code",
      "metadata": {
        "id": "gj1pfSHFYvMz",
        "colab_type": "code",
        "colab": {}
      },
      "source": [
        ""
      ],
      "execution_count": 0,
      "outputs": []
    }
  ]
}